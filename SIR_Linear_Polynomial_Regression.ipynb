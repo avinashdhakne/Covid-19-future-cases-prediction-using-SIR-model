{
  "nbformat": 4,
  "nbformat_minor": 0,
  "metadata": {
    "colab": {
      "name": "FP_SIR+LR+PR.ipynb",
      "provenance": [],
      "collapsed_sections": []
    },
    "kernelspec": {
      "name": "python3",
      "display_name": "Python 3"
    },
    "language_info": {
      "name": "python"
    }
  },
  "cells": [
    {
      "cell_type": "code",
      "metadata": {
        "colab": {
          "resources": {
            "http://localhost:8080/nbextensions/google.colab/files.js": {
              "data": "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",
              "ok": true,
              "headers": [
                [
                  "content-type",
                  "application/javascript"
                ]
              ],
              "status": 200,
              "status_text": ""
            }
          },
          "base_uri": "https://localhost:8080/",
          "height": 73
        },
        "id": "90SRXsCFJ5Mi",
        "outputId": "2a8cbac5-723a-459f-8378-7fd9f6116e98"
      },
      "source": [
        "#inport dataset \n",
        "from google.colab import files\n",
        "uploaded = files.upload()"
      ],
      "execution_count": null,
      "outputs": [
        {
          "output_type": "display_data",
          "data": {
            "text/html": [
              "\n",
              "     <input type=\"file\" id=\"files-de75174e-5fcb-438f-9cb5-7cd344da38d7\" name=\"files[]\" multiple disabled\n",
              "        style=\"border:none\" />\n",
              "     <output id=\"result-de75174e-5fcb-438f-9cb5-7cd344da38d7\">\n",
              "      Upload widget is only available when the cell has been executed in the\n",
              "      current browser session. Please rerun this cell to enable.\n",
              "      </output>\n",
              "      <script src=\"/nbextensions/google.colab/files.js\"></script> "
            ],
            "text/plain": [
              "<IPython.core.display.HTML object>"
            ]
          },
          "metadata": {
            "tags": []
          }
        },
        {
          "output_type": "stream",
          "text": [
            "Saving case_time_series (1).csv to case_time_series (1).csv\n"
          ],
          "name": "stdout"
        }
      ]
    },
    {
      "cell_type": "code",
      "metadata": {
        "id": "OsmZJwMkNzrQ"
      },
      "source": [
        "#inport essential libraries\n",
        "import pandas as pd\n",
        "import numpy as np\n",
        "import matplotlib.pyplot as plt"
      ],
      "execution_count": null,
      "outputs": []
    },
    {
      "cell_type": "code",
      "metadata": {
        "colab": {
          "base_uri": "https://localhost:8080/",
          "height": 203
        },
        "id": "4VdzqGfVN1I1",
        "outputId": "e8e073ec-70d0-4a23-f376-93d61cf8248b"
      },
      "source": [
        "# Read the data\n",
        "df = pd.read_csv(\"case_time_series (1).csv\")\n",
        "df.tail()"
      ],
      "execution_count": null,
      "outputs": [
        {
          "output_type": "execute_result",
          "data": {
            "text/html": [
              "<div>\n",
              "<style scoped>\n",
              "    .dataframe tbody tr th:only-of-type {\n",
              "        vertical-align: middle;\n",
              "    }\n",
              "\n",
              "    .dataframe tbody tr th {\n",
              "        vertical-align: top;\n",
              "    }\n",
              "\n",
              "    .dataframe thead th {\n",
              "        text-align: right;\n",
              "    }\n",
              "</style>\n",
              "<table border=\"1\" class=\"dataframe\">\n",
              "  <thead>\n",
              "    <tr style=\"text-align: right;\">\n",
              "      <th></th>\n",
              "      <th>Date</th>\n",
              "      <th>Date_YMD</th>\n",
              "      <th>Daily Confirmed</th>\n",
              "      <th>Total Confirmed</th>\n",
              "      <th>Daily Recovered</th>\n",
              "      <th>Total Recovered</th>\n",
              "      <th>Daily Deceased</th>\n",
              "      <th>Total Deceased</th>\n",
              "    </tr>\n",
              "  </thead>\n",
              "  <tbody>\n",
              "    <tr>\n",
              "      <th>529</th>\n",
              "      <td>12 July 2021</td>\n",
              "      <td>2021-07-12</td>\n",
              "      <td>30818</td>\n",
              "      <td>30904515</td>\n",
              "      <td>47544</td>\n",
              "      <td>30054587</td>\n",
              "      <td>2024</td>\n",
              "      <td>410225</td>\n",
              "    </tr>\n",
              "    <tr>\n",
              "      <th>530</th>\n",
              "      <td>13 July 2021</td>\n",
              "      <td>2021-07-13</td>\n",
              "      <td>40314</td>\n",
              "      <td>30944829</td>\n",
              "      <td>42436</td>\n",
              "      <td>30097023</td>\n",
              "      <td>625</td>\n",
              "      <td>410850</td>\n",
              "    </tr>\n",
              "    <tr>\n",
              "      <th>531</th>\n",
              "      <td>14 July 2021</td>\n",
              "      <td>2021-07-14</td>\n",
              "      <td>41759</td>\n",
              "      <td>30986588</td>\n",
              "      <td>39293</td>\n",
              "      <td>30136316</td>\n",
              "      <td>578</td>\n",
              "      <td>411428</td>\n",
              "    </tr>\n",
              "    <tr>\n",
              "      <th>532</th>\n",
              "      <td>15 July 2021</td>\n",
              "      <td>2021-07-15</td>\n",
              "      <td>39071</td>\n",
              "      <td>31025659</td>\n",
              "      <td>39827</td>\n",
              "      <td>30176143</td>\n",
              "      <td>544</td>\n",
              "      <td>411972</td>\n",
              "    </tr>\n",
              "    <tr>\n",
              "      <th>533</th>\n",
              "      <td>16 July 2021</td>\n",
              "      <td>2021-07-16</td>\n",
              "      <td>38115</td>\n",
              "      <td>31063774</td>\n",
              "      <td>43878</td>\n",
              "      <td>30220021</td>\n",
              "      <td>560</td>\n",
              "      <td>412532</td>\n",
              "    </tr>\n",
              "  </tbody>\n",
              "</table>\n",
              "</div>"
            ],
            "text/plain": [
              "             Date    Date_YMD  ...  Daily Deceased  Total Deceased\n",
              "529  12 July 2021  2021-07-12  ...            2024          410225\n",
              "530  13 July 2021  2021-07-13  ...             625          410850\n",
              "531  14 July 2021  2021-07-14  ...             578          411428\n",
              "532  15 July 2021  2021-07-15  ...             544          411972\n",
              "533  16 July 2021  2021-07-16  ...             560          412532\n",
              "\n",
              "[5 rows x 8 columns]"
            ]
          },
          "metadata": {
            "tags": []
          },
          "execution_count": 3
        }
      ]
    },
    {
      "cell_type": "markdown",
      "metadata": {
        "id": "Ezts_nfTgM6K"
      },
      "source": [
        "Preprocessing "
      ]
    },
    {
      "cell_type": "code",
      "metadata": {
        "colab": {
          "base_uri": "https://localhost:8080/"
        },
        "id": "Z2-iPI_2haRx",
        "outputId": "6c39dcd4-64e0-401c-b94a-aacdf7bd08f0"
      },
      "source": [
        "#getting the shape of dataset\n",
        "df.shape"
      ],
      "execution_count": null,
      "outputs": [
        {
          "output_type": "execute_result",
          "data": {
            "text/plain": [
              "(534, 8)"
            ]
          },
          "metadata": {
            "tags": []
          },
          "execution_count": 4
        }
      ]
    },
    {
      "cell_type": "code",
      "metadata": {
        "colab": {
          "base_uri": "https://localhost:8080/"
        },
        "id": "DE8DhbG6hb7p",
        "outputId": "bb10e19c-e4ed-49d0-e8e5-90f9809f4588"
      },
      "source": [
        "#getting information of dataset\n",
        "df.info()"
      ],
      "execution_count": null,
      "outputs": [
        {
          "output_type": "stream",
          "text": [
            "<class 'pandas.core.frame.DataFrame'>\n",
            "RangeIndex: 534 entries, 0 to 533\n",
            "Data columns (total 8 columns):\n",
            " #   Column           Non-Null Count  Dtype \n",
            "---  ------           --------------  ----- \n",
            " 0   Date             534 non-null    object\n",
            " 1   Date_YMD         534 non-null    object\n",
            " 2   Daily Confirmed  534 non-null    int64 \n",
            " 3   Total Confirmed  534 non-null    int64 \n",
            " 4   Daily Recovered  534 non-null    int64 \n",
            " 5   Total Recovered  534 non-null    int64 \n",
            " 6   Daily Deceased   534 non-null    int64 \n",
            " 7   Total Deceased   534 non-null    int64 \n",
            "dtypes: int64(6), object(2)\n",
            "memory usage: 33.5+ KB\n"
          ],
          "name": "stdout"
        }
      ]
    },
    {
      "cell_type": "code",
      "metadata": {
        "colab": {
          "base_uri": "https://localhost:8080/",
          "height": 295
        },
        "id": "APmjATohhdwR",
        "outputId": "1fda0060-df32-4d2d-f4fe-7796c1567906"
      },
      "source": [
        "#describing the datset\n",
        "df.describe()"
      ],
      "execution_count": null,
      "outputs": [
        {
          "output_type": "execute_result",
          "data": {
            "text/html": [
              "<div>\n",
              "<style scoped>\n",
              "    .dataframe tbody tr th:only-of-type {\n",
              "        vertical-align: middle;\n",
              "    }\n",
              "\n",
              "    .dataframe tbody tr th {\n",
              "        vertical-align: top;\n",
              "    }\n",
              "\n",
              "    .dataframe thead th {\n",
              "        text-align: right;\n",
              "    }\n",
              "</style>\n",
              "<table border=\"1\" class=\"dataframe\">\n",
              "  <thead>\n",
              "    <tr style=\"text-align: right;\">\n",
              "      <th></th>\n",
              "      <th>Daily Confirmed</th>\n",
              "      <th>Total Confirmed</th>\n",
              "      <th>Daily Recovered</th>\n",
              "      <th>Total Recovered</th>\n",
              "      <th>Daily Deceased</th>\n",
              "      <th>Total Deceased</th>\n",
              "    </tr>\n",
              "  </thead>\n",
              "  <tbody>\n",
              "    <tr>\n",
              "      <th>count</th>\n",
              "      <td>534.000000</td>\n",
              "      <td>5.340000e+02</td>\n",
              "      <td>534.000000</td>\n",
              "      <td>5.340000e+02</td>\n",
              "      <td>534.000000</td>\n",
              "      <td>534.000000</td>\n",
              "    </tr>\n",
              "    <tr>\n",
              "      <th>mean</th>\n",
              "      <td>58171.861423</td>\n",
              "      <td>8.730452e+06</td>\n",
              "      <td>56591.799625</td>\n",
              "      <td>8.008350e+06</td>\n",
              "      <td>772.531835</td>\n",
              "      <td>117321.507491</td>\n",
              "    </tr>\n",
              "    <tr>\n",
              "      <th>std</th>\n",
              "      <td>85044.137019</td>\n",
              "      <td>9.235361e+06</td>\n",
              "      <td>83090.405194</td>\n",
              "      <td>8.680325e+06</td>\n",
              "      <td>1049.852990</td>\n",
              "      <td>113290.860515</td>\n",
              "    </tr>\n",
              "    <tr>\n",
              "      <th>min</th>\n",
              "      <td>0.000000</td>\n",
              "      <td>1.000000e+00</td>\n",
              "      <td>0.000000</td>\n",
              "      <td>0.000000e+00</td>\n",
              "      <td>0.000000</td>\n",
              "      <td>0.000000</td>\n",
              "    </tr>\n",
              "    <tr>\n",
              "      <th>25%</th>\n",
              "      <td>9880.500000</td>\n",
              "      <td>3.011195e+05</td>\n",
              "      <td>6974.000000</td>\n",
              "      <td>1.487878e+05</td>\n",
              "      <td>113.250000</td>\n",
              "      <td>8598.000000</td>\n",
              "    </tr>\n",
              "    <tr>\n",
              "      <th>50%</th>\n",
              "      <td>30749.500000</td>\n",
              "      <td>7.786710e+06</td>\n",
              "      <td>29483.500000</td>\n",
              "      <td>6.980044e+06</td>\n",
              "      <td>436.000000</td>\n",
              "      <td>117078.500000</td>\n",
              "    </tr>\n",
              "    <tr>\n",
              "      <th>75%</th>\n",
              "      <td>64102.250000</td>\n",
              "      <td>1.118724e+07</td>\n",
              "      <td>64046.750000</td>\n",
              "      <td>1.084848e+07</td>\n",
              "      <td>927.000000</td>\n",
              "      <td>157074.750000</td>\n",
              "    </tr>\n",
              "    <tr>\n",
              "      <th>max</th>\n",
              "      <td>414280.000000</td>\n",
              "      <td>3.106377e+07</td>\n",
              "      <td>422391.000000</td>\n",
              "      <td>3.022002e+07</td>\n",
              "      <td>6139.000000</td>\n",
              "      <td>412532.000000</td>\n",
              "    </tr>\n",
              "  </tbody>\n",
              "</table>\n",
              "</div>"
            ],
            "text/plain": [
              "       Daily Confirmed  Total Confirmed  ...  Daily Deceased  Total Deceased\n",
              "count       534.000000     5.340000e+02  ...      534.000000      534.000000\n",
              "mean      58171.861423     8.730452e+06  ...      772.531835   117321.507491\n",
              "std       85044.137019     9.235361e+06  ...     1049.852990   113290.860515\n",
              "min           0.000000     1.000000e+00  ...        0.000000        0.000000\n",
              "25%        9880.500000     3.011195e+05  ...      113.250000     8598.000000\n",
              "50%       30749.500000     7.786710e+06  ...      436.000000   117078.500000\n",
              "75%       64102.250000     1.118724e+07  ...      927.000000   157074.750000\n",
              "max      414280.000000     3.106377e+07  ...     6139.000000   412532.000000\n",
              "\n",
              "[8 rows x 6 columns]"
            ]
          },
          "metadata": {
            "tags": []
          },
          "execution_count": 6
        }
      ]
    },
    {
      "cell_type": "code",
      "metadata": {
        "id": "9Z0IONAIN3d_"
      },
      "source": [
        "# Storethe data in variables\n",
        "x = np.array(df['Total Confirmed'])\n",
        "y = np.array(df['Total Recovered'])\n",
        "z = np.array(df['Total Deceased'])\n",
        "N = 1370508600"
      ],
      "execution_count": null,
      "outputs": []
    },
    {
      "cell_type": "code",
      "metadata": {
        "id": "u8LMDDxrN5Se"
      },
      "source": [
        "#make the array of susceptible, Infected and Removed peoples\n",
        "sus = np.array(N-x)[-200:]\n",
        "inf = np.array(x-y-z)[-200:]\n",
        "rec = np.array(y+z)[-200:]"
      ],
      "execution_count": null,
      "outputs": []
    },
    {
      "cell_type": "code",
      "metadata": {
        "id": "gzocDaCLN64e"
      },
      "source": [
        "# Make the function to find the beta\n",
        "# beta is average number of contacts per person per time \n",
        "def find_beta(sus,inf,N):\n",
        "  beta = np.zeros(len(sus)-1)\n",
        "  for i in range(len(sus)-1):\n",
        "    beta[i] = -((sus[i+1] - sus[i])*N)/(sus[i]*inf[i])\n",
        "  return beta"
      ],
      "execution_count": null,
      "outputs": []
    },
    {
      "cell_type": "code",
      "metadata": {
        "id": "p2ZZp-n0N951"
      },
      "source": [
        "# make a function to fine the gamma\n",
        "# gamma is probability of an infectious individual recovering in any time interval\n",
        "def find_gamma(inf,rec):\n",
        "  gamma = np.zeros(len(rec)-1)\n",
        "  for i in range(len(rec)-1):\n",
        "    gamma[i] = (rec[i+1]-rec[i])/(inf[i])\n",
        "  return gamma"
      ],
      "execution_count": null,
      "outputs": []
    },
    {
      "cell_type": "code",
      "metadata": {
        "id": "LwPDrwupN_bm"
      },
      "source": [
        "# Do train_test_split of the infected, susceptible and recovered peoples\n",
        "from sklearn.model_selection import train_test_split\n",
        "sus_train, sus_test, inf_train, inf_test, rec_train, rec_test = train_test_split(sus, inf, rec, test_size=0.2, shuffle=False)"
      ],
      "execution_count": null,
      "outputs": []
    },
    {
      "cell_type": "code",
      "metadata": {
        "id": "awp-l945OGMu"
      },
      "source": [
        "# Find the beta on training set and the testing set\n",
        "beta = find_beta(sus_train,inf_train,N)\n",
        "gamma = find_gamma(inf_train,rec_train)\n",
        "# This beta and gamma are fot validation of prediction\n",
        "beta_o = find_beta(sus_test,inf_test,N)\n",
        "gamma_o = find_gamma(inf_test,rec_test)"
      ],
      "execution_count": null,
      "outputs": []
    },
    {
      "cell_type": "code",
      "metadata": {
        "id": "dZbTMogZOHuV"
      },
      "source": [
        "# Make the variable to predict the number of days\n",
        "pdays = len(sus_test)\n",
        "# form the dataset for alpha and beta\n",
        "beta_1 = pd.DataFrame(data=beta,columns= ['Beta'])\n",
        "gamma_1 = pd.DataFrame(data=gamma,columns = ['Gamma'])\n",
        "beta_1['beta_p'] = beta_1[['Beta']].shift(-pdays)\n",
        "gamma_1['gamma_p'] = gamma_1[['Gamma']].shift(-pdays)"
      ],
      "execution_count": null,
      "outputs": []
    },
    {
      "cell_type": "code",
      "metadata": {
        "id": "nW-V3GDQOJYG"
      },
      "source": [
        "# Create the array to fit the model\n",
        "x_1 = np.array(beta_1['Beta']).reshape(-1,1)[:-pdays]\n",
        "y_1 = np.array(beta_1['beta_p']).reshape(-1,1)[:-pdays]\n",
        "x_2 = np.array(gamma_1['Gamma']).reshape(-1,1)[:-pdays]\n",
        "y_2 = np.array(gamma_1['gamma_p']).reshape(-1,1)[:-pdays]\n",
        "# Create the array to predict the beta and gamma\n",
        "b_test = np.array(beta_1['Beta']).reshape(-1,1)[-pdays:]\n",
        "g_test = np.array(gamma_1['Gamma']).reshape(-1,1)[-pdays:]"
      ],
      "execution_count": null,
      "outputs": []
    },
    {
      "cell_type": "markdown",
      "metadata": {
        "id": "4GElPpSwgSL1"
      },
      "source": [
        "Model Fitting "
      ]
    },
    {
      "cell_type": "code",
      "metadata": {
        "id": "ykayxsSuOLRf"
      },
      "source": [
        "# Fit the Linear Regreesoin regressor model to predict beta and gamma\n",
        "from sklearn.linear_model import LinearRegression\n",
        "linreg_b = LinearRegression().fit(x_1, y_1)\n",
        "linreg_g = LinearRegression().fit(x_2, y_2)"
      ],
      "execution_count": null,
      "outputs": []
    },
    {
      "cell_type": "code",
      "metadata": {
        "id": "ypzTrOxqPILW"
      },
      "source": [
        "# Fit the Polynomial Regreesoin regressor model to predict beta and gamma\n",
        "from sklearn.preprocessing import PolynomialFeatures\n",
        "polynom_b = PolynomialFeatures(degree=15)\n",
        "x_b = polynom_b.fit_transform(x_1)\n",
        "polyreg_b = LinearRegression().fit(x_b, y_1)\n",
        "\n",
        "polynom_g = PolynomialFeatures(degree=15)\n",
        "x_g = polynom_g.fit_transform(x_1)\n",
        "polyreg_g = LinearRegression().fit(x_g, y_2)"
      ],
      "execution_count": null,
      "outputs": []
    },
    {
      "cell_type": "code",
      "metadata": {
        "id": "gxWUEyMBPOJe"
      },
      "source": [
        "# Predict the vlaues of beta and gamma for Linear Regression\n",
        "pred_b = linreg_b.predict(b_test)\n",
        "pred_g = linreg_g.predict(g_test)"
      ],
      "execution_count": null,
      "outputs": []
    },
    {
      "cell_type": "code",
      "metadata": {
        "id": "PIt7L3rCQcK1"
      },
      "source": [
        "# Predict the vlaues of beta and gamma for Polynomial Regression\n",
        "poly_b = polyreg_b.predict(polynom_b.fit_transform(b_test))\n",
        "poly_g = polyreg_g.predict(polynom_g.fit_transform(g_test))"
      ],
      "execution_count": null,
      "outputs": []
    },
    {
      "cell_type": "code",
      "metadata": {
        "id": "aLkoWhdXQ0JR"
      },
      "source": [
        "# Make the empty array to predict the redults \n",
        "S_1 = np.zeros(pdays)\n",
        "I_1 = np.zeros(pdays)\n",
        "R_1 = np.zeros(pdays)\n",
        "# Find the present Susceptible, Infected and Recovered peoples and set it into zeroth index\n",
        "S_1[0] = sus[len(sus_train)]\n",
        "I_1[0] = inf[len(inf_train)]\n",
        "R_1[0] = rec[len(rec_train)] \n",
        "# Store the prediction of Decision Tree Regressor in variables \n",
        "beta_1 = pred_b\n",
        "gamma_1 = pred_g"
      ],
      "execution_count": null,
      "outputs": []
    },
    {
      "cell_type": "code",
      "metadata": {
        "id": "C6TgATYKRZ_d"
      },
      "source": [
        "# Predict the result using Eulars Integration method\n",
        "for i in range(len(beta_1)-1):\n",
        "  S_1[i+1] = S_1[i] - (beta_1[i]*S_1[i]*I_1[i]/N)\n",
        "  I_1[i+1] = I_1[i] - ((beta_1[i]*S_1[i]*I_1[i]/N) - gamma_1[i]*I_1[i])\n",
        "  R_1[i+1] = R_1[i] + (gamma_1[i]*I_1[i])"
      ],
      "execution_count": null,
      "outputs": []
    },
    {
      "cell_type": "code",
      "metadata": {
        "colab": {
          "base_uri": "https://localhost:8080/",
          "height": 490
        },
        "id": "sGgEO4pAjmyJ",
        "outputId": "45bfb9c3-a8fb-41cc-fbad-660f8da4e6c0"
      },
      "source": [
        "# Visualising the Predictions of Decision tree regressor model\n",
        "plt.figure(figsize = (10,7))\n",
        "plt.title('Active Cases Prediction (Linear Regressor)', fontsize = 25, fontweight = 'bold', pad = 15)\n",
        "plt.xlabel('Days', fontsize = 17, labelpad = 10)\n",
        "plt.ylabel('Active Casesreviews (million)', fontsize = 17, labelpad = 10)\n",
        "plt.plot(I_1,'-r')\n",
        "plt.plot(inf_test, '--g')\n",
        "plt.legend(['Predicted_Cases','Original_Data'], fontsize = 15 )\n",
        "plt.savefig('linear regression.png')"
      ],
      "execution_count": null,
      "outputs": [
        {
          "output_type": "display_data",
          "data": {
            "image/png": "[encoded data removed]",
            "text/plain": [
              "<Figure size 720x504 with 1 Axes>"
            ]
          },
          "metadata": {
            "tags": [],
            "needs_background": "light"
          }
        }
      ]
    },
    {
      "cell_type": "code",
      "metadata": {
        "colab": {
          "base_uri": "https://localhost:8080/"
        },
        "id": "HIGgH7cAv-r5",
        "outputId": "9d1b765e-f1fd-4297-98fc-a0df203229f7"
      },
      "source": [
        "#calculating the r2_score of Linear regression to validate the predictions\n",
        "from sklearn.metrics import r2_score\n",
        "LR_result = r2_score(I_1, inf_test)\n",
        "LR_result"
      ],
      "execution_count": null,
      "outputs": [
        {
          "output_type": "execute_result",
          "data": {
            "text/plain": [
              "0.29782477042556177"
            ]
          },
          "metadata": {
            "tags": []
          },
          "execution_count": 24
        }
      ]
    },
    {
      "cell_type": "code",
      "metadata": {
        "id": "S3VRZsHkRnoN"
      },
      "source": [
        "# Make the empty array to predict the results \n",
        "S = np.zeros(pdays)\n",
        "I = np.zeros(pdays)\n",
        "R = np.zeros(pdays)\n",
        "# Find the present Susceptible, Infected and Recovered peoples and set it into zeroth index\n",
        "S[0] = sus[len(sus_train)]\n",
        "I[0] = inf[len(inf_train)]\n",
        "R[0] = rec[len(rec_train)] \n",
        "# Store the prediction of Decision Tree Regressor in variables \n",
        "beta = poly_b\n",
        "gamma = poly_g"
      ],
      "execution_count": null,
      "outputs": []
    },
    {
      "cell_type": "code",
      "metadata": {
        "id": "YOz7scw0RpS9"
      },
      "source": [
        "# Predict the result using Eulars Integration method\n",
        "for i in range(len(poly_b)-1):\n",
        "  S[i+1] = S[i] - (beta[i]*S[i]*I[i]/N)\n",
        "  I[i+1] = I[i] - ((beta[i]*S[i]*I[i]/N) - gamma[i]*I[i])\n",
        "  R[i+1] = R[i] + (gamma[i]*I[i])"
      ],
      "execution_count": null,
      "outputs": []
    },
    {
      "cell_type": "code",
      "metadata": {
        "colab": {
          "base_uri": "https://localhost:8080/",
          "height": 490
        },
        "id": "TOcGnmIoRwDU",
        "outputId": "c4260a29-c620-42c5-976d-8b11d015f662"
      },
      "source": [
        "# Visualising the Predictions of Polynomial regressor model\n",
        "plt.figure(figsize = (10,7))\n",
        "plt.title('Active Cases Prediction (Polynomial Regressor)', fontsize = 25, fontweight = 'bold', pad = 15)\n",
        "plt.xlabel('Days', fontsize = 17, labelpad = 10,)\n",
        "plt.ylabel('Active Cases (million)', fontsize = 17, labelpad = 10)\n",
        "plt.plot(I,'-r')\n",
        "plt.plot(inf_test, '--g')\n",
        "plt.legend(['Predicted_Cases','Original_Data'], fontsize = 15 )\n",
        "plt.savefig('polynomial regression.png')"
      ],
      "execution_count": null,
      "outputs": [
        {
          "output_type": "display_data",
          "data": {
            "image/png": "[encoded data removed]",
            "text/plain": [
              "<Figure size 720x504 with 1 Axes>"
            ]
          },
          "metadata": {
            "tags": [],
            "needs_background": "light"
          }
        }
      ]
    },
    {
      "cell_type": "code",
      "metadata": {
        "id": "w4NuSzP2UDE2",
        "colab": {
          "base_uri": "https://localhost:8080/"
        },
        "outputId": "06888b58-3c3d-4991-c636-9cd90fba24f5"
      },
      "source": [
        "#calculating the r2_score of Ploynomial regression to validate the predictions\n",
        "PR_result = r2_score(I, inf_test)\n",
        "PR_result"
      ],
      "execution_count": null,
      "outputs": [
        {
          "output_type": "execute_result",
          "data": {
            "text/plain": [
              "0.9761101644687097"
            ]
          },
          "metadata": {
            "tags": []
          },
          "execution_count": 26
        }
      ]
    }
  ]
}