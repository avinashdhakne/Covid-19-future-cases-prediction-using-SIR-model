{
  "nbformat": 4,
  "nbformat_minor": 0,
  "metadata": {
    "colab": {
      "name": "CP2_SIR_final_results.ipynb",
      "provenance": [],
      "collapsed_sections": []
    },
    "kernelspec": {
      "name": "python3",
      "display_name": "Python 3"
    },
    "language_info": {
      "name": "python"
    }
  },
  "cells": [
    {
      "cell_type": "code",
      "metadata": {
        "id": "OsmZJwMkNzrQ"
      },
      "source": [
        "#import essential libraries\n",
        "import pandas as pd\n",
        "import numpy as np\n",
        "import matplotlib.pyplot as plt\n",
        "import plotly.graph_objects as go"
      ],
      "execution_count": null,
      "outputs": []
    },
    {
      "cell_type": "code",
      "metadata": {
        "colab": {
          "base_uri": "https://localhost:8080/",
          "height": 202
        },
        "id": "4VdzqGfVN1I1",
        "outputId": "e6eec0a0-f4d2-45d1-bd8d-787760549aec"
      },
      "source": [
        "# Read the data\n",
        "df = pd.read_csv(\"https://api.covid19india.org/csv/latest/case_time_series.csv\")\n",
        "df.tail()"
      ],
      "execution_count": null,
      "outputs": [
        {
          "output_type": "execute_result",
          "data": {
            "text/html": [
              "<div>\n",
              "<style scoped>\n",
              "    .dataframe tbody tr th:only-of-type {\n",
              "        vertical-align: middle;\n",
              "    }\n",
              "\n",
              "    .dataframe tbody tr th {\n",
              "        vertical-align: top;\n",
              "    }\n",
              "\n",
              "    .dataframe thead th {\n",
              "        text-align: right;\n",
              "    }\n",
              "</style>\n",
              "<table border=\"1\" class=\"dataframe\">\n",
              "  <thead>\n",
              "    <tr style=\"text-align: right;\">\n",
              "      <th></th>\n",
              "      <th>Date</th>\n",
              "      <th>Date_YMD</th>\n",
              "      <th>Daily Confirmed</th>\n",
              "      <th>Total Confirmed</th>\n",
              "      <th>Daily Recovered</th>\n",
              "      <th>Total Recovered</th>\n",
              "      <th>Daily Deceased</th>\n",
              "      <th>Total Deceased</th>\n",
              "    </tr>\n",
              "  </thead>\n",
              "  <tbody>\n",
              "    <tr>\n",
              "      <th>615</th>\n",
              "      <td>6 October 2021</td>\n",
              "      <td>2021-10-06</td>\n",
              "      <td>22605</td>\n",
              "      <td>33892780</td>\n",
              "      <td>24610</td>\n",
              "      <td>33192508</td>\n",
              "      <td>316</td>\n",
              "      <td>449294</td>\n",
              "    </tr>\n",
              "    <tr>\n",
              "      <th>616</th>\n",
              "      <td>7 October 2021</td>\n",
              "      <td>2021-10-07</td>\n",
              "      <td>21474</td>\n",
              "      <td>33914254</td>\n",
              "      <td>24959</td>\n",
              "      <td>33217467</td>\n",
              "      <td>277</td>\n",
              "      <td>449571</td>\n",
              "    </tr>\n",
              "    <tr>\n",
              "      <th>617</th>\n",
              "      <td>8 October 2021</td>\n",
              "      <td>2021-10-08</td>\n",
              "      <td>19868</td>\n",
              "      <td>33934122</td>\n",
              "      <td>23066</td>\n",
              "      <td>33240533</td>\n",
              "      <td>247</td>\n",
              "      <td>449818</td>\n",
              "    </tr>\n",
              "    <tr>\n",
              "      <th>618</th>\n",
              "      <td>9 October 2021</td>\n",
              "      <td>2021-10-09</td>\n",
              "      <td>17941</td>\n",
              "      <td>33952063</td>\n",
              "      <td>23612</td>\n",
              "      <td>33264145</td>\n",
              "      <td>213</td>\n",
              "      <td>450031</td>\n",
              "    </tr>\n",
              "    <tr>\n",
              "      <th>619</th>\n",
              "      <td>10 October 2021</td>\n",
              "      <td>2021-10-10</td>\n",
              "      <td>19020</td>\n",
              "      <td>33971083</td>\n",
              "      <td>21583</td>\n",
              "      <td>33285728</td>\n",
              "      <td>193</td>\n",
              "      <td>450224</td>\n",
              "    </tr>\n",
              "  </tbody>\n",
              "</table>\n",
              "</div>"
            ],
            "text/plain": [
              "                Date    Date_YMD  ...  Daily Deceased  Total Deceased\n",
              "615   6 October 2021  2021-10-06  ...             316          449294\n",
              "616   7 October 2021  2021-10-07  ...             277          449571\n",
              "617   8 October 2021  2021-10-08  ...             247          449818\n",
              "618   9 October 2021  2021-10-09  ...             213          450031\n",
              "619  10 October 2021  2021-10-10  ...             193          450224\n",
              "\n",
              "[5 rows x 8 columns]"
            ]
          },
          "metadata": {},
          "execution_count": 2
        }
      ]
    },
    {
      "cell_type": "code",
      "metadata": {
        "colab": {
          "base_uri": "https://localhost:8080/"
        },
        "id": "Z2-iPI_2haRx",
        "outputId": "e7a63387-b706-4d3f-87c2-31f6d07cfbd7"
      },
      "source": [
        "#getting the shape of dataset\n",
        "df.shape"
      ],
      "execution_count": null,
      "outputs": [
        {
          "output_type": "execute_result",
          "data": {
            "text/plain": [
              "(620, 8)"
            ]
          },
          "metadata": {},
          "execution_count": 3
        }
      ]
    },
    {
      "cell_type": "code",
      "metadata": {
        "colab": {
          "base_uri": "https://localhost:8080/"
        },
        "id": "DE8DhbG6hb7p",
        "outputId": "6152015f-d985-43c7-c552-6325769414f1"
      },
      "source": [
        "#getting information of dataset\n",
        "df.info()"
      ],
      "execution_count": null,
      "outputs": [
        {
          "output_type": "stream",
          "name": "stdout",
          "text": [
            "<class 'pandas.core.frame.DataFrame'>\n",
            "RangeIndex: 620 entries, 0 to 619\n",
            "Data columns (total 8 columns):\n",
            " #   Column           Non-Null Count  Dtype \n",
            "---  ------           --------------  ----- \n",
            " 0   Date             620 non-null    object\n",
            " 1   Date_YMD         620 non-null    object\n",
            " 2   Daily Confirmed  620 non-null    int64 \n",
            " 3   Total Confirmed  620 non-null    int64 \n",
            " 4   Daily Recovered  620 non-null    int64 \n",
            " 5   Total Recovered  620 non-null    int64 \n",
            " 6   Daily Deceased   620 non-null    int64 \n",
            " 7   Total Deceased   620 non-null    int64 \n",
            "dtypes: int64(6), object(2)\n",
            "memory usage: 38.9+ KB\n"
          ]
        }
      ]
    },
    {
      "cell_type": "code",
      "metadata": {
        "colab": {
          "base_uri": "https://localhost:8080/",
          "height": 294
        },
        "id": "APmjATohhdwR",
        "outputId": "68ad97b7-e182-419b-c7b0-a725d5b86cfa"
      },
      "source": [
        "#describing the datset\n",
        "df.describe()"
      ],
      "execution_count": null,
      "outputs": [
        {
          "output_type": "execute_result",
          "data": {
            "text/html": [
              "<div>\n",
              "<style scoped>\n",
              "    .dataframe tbody tr th:only-of-type {\n",
              "        vertical-align: middle;\n",
              "    }\n",
              "\n",
              "    .dataframe tbody tr th {\n",
              "        vertical-align: top;\n",
              "    }\n",
              "\n",
              "    .dataframe thead th {\n",
              "        text-align: right;\n",
              "    }\n",
              "</style>\n",
              "<table border=\"1\" class=\"dataframe\">\n",
              "  <thead>\n",
              "    <tr style=\"text-align: right;\">\n",
              "      <th></th>\n",
              "      <th>Daily Confirmed</th>\n",
              "      <th>Total Confirmed</th>\n",
              "      <th>Daily Recovered</th>\n",
              "      <th>Total Recovered</th>\n",
              "      <th>Daily Deceased</th>\n",
              "      <th>Total Deceased</th>\n",
              "    </tr>\n",
              "  </thead>\n",
              "  <tbody>\n",
              "    <tr>\n",
              "      <th>count</th>\n",
              "      <td>620.000000</td>\n",
              "      <td>6.200000e+02</td>\n",
              "      <td>620.000000</td>\n",
              "      <td>6.200000e+02</td>\n",
              "      <td>620.000000</td>\n",
              "      <td>620.000000</td>\n",
              "    </tr>\n",
              "    <tr>\n",
              "      <th>mean</th>\n",
              "      <td>54792.069355</td>\n",
              "      <td>1.205126e+07</td>\n",
              "      <td>53686.658065</td>\n",
              "      <td>1.131849e+07</td>\n",
              "      <td>726.167742</td>\n",
              "      <td>161468.003226</td>\n",
              "    </tr>\n",
              "    <tr>\n",
              "      <th>std</th>\n",
              "      <td>79424.685781</td>\n",
              "      <td>1.192195e+07</td>\n",
              "      <td>77472.135234</td>\n",
              "      <td>1.153861e+07</td>\n",
              "      <td>992.592759</td>\n",
              "      <td>152273.819835</td>\n",
              "    </tr>\n",
              "    <tr>\n",
              "      <th>min</th>\n",
              "      <td>0.000000</td>\n",
              "      <td>1.000000e+00</td>\n",
              "      <td>0.000000</td>\n",
              "      <td>0.000000e+00</td>\n",
              "      <td>0.000000</td>\n",
              "      <td>0.000000</td>\n",
              "    </tr>\n",
              "    <tr>\n",
              "      <th>25%</th>\n",
              "      <td>12120.000000</td>\n",
              "      <td>6.442095e+05</td>\n",
              "      <td>11728.500000</td>\n",
              "      <td>3.907158e+05</td>\n",
              "      <td>137.000000</td>\n",
              "      <td>18560.000000</td>\n",
              "    </tr>\n",
              "    <tr>\n",
              "      <th>50%</th>\n",
              "      <td>32345.000000</td>\n",
              "      <td>9.626448e+06</td>\n",
              "      <td>34130.000000</td>\n",
              "      <td>9.078836e+06</td>\n",
              "      <td>419.000000</td>\n",
              "      <td>139388.000000</td>\n",
              "    </tr>\n",
              "    <tr>\n",
              "      <th>75%</th>\n",
              "      <td>57638.500000</td>\n",
              "      <td>2.238749e+07</td>\n",
              "      <td>58592.750000</td>\n",
              "      <td>1.839990e+07</td>\n",
              "      <td>854.000000</td>\n",
              "      <td>242745.250000</td>\n",
              "    </tr>\n",
              "    <tr>\n",
              "      <th>max</th>\n",
              "      <td>414280.000000</td>\n",
              "      <td>3.397108e+07</td>\n",
              "      <td>422391.000000</td>\n",
              "      <td>3.328573e+07</td>\n",
              "      <td>6139.000000</td>\n",
              "      <td>450224.000000</td>\n",
              "    </tr>\n",
              "  </tbody>\n",
              "</table>\n",
              "</div>"
            ],
            "text/plain": [
              "       Daily Confirmed  Total Confirmed  ...  Daily Deceased  Total Deceased\n",
              "count       620.000000     6.200000e+02  ...      620.000000      620.000000\n",
              "mean      54792.069355     1.205126e+07  ...      726.167742   161468.003226\n",
              "std       79424.685781     1.192195e+07  ...      992.592759   152273.819835\n",
              "min           0.000000     1.000000e+00  ...        0.000000        0.000000\n",
              "25%       12120.000000     6.442095e+05  ...      137.000000    18560.000000\n",
              "50%       32345.000000     9.626448e+06  ...      419.000000   139388.000000\n",
              "75%       57638.500000     2.238749e+07  ...      854.000000   242745.250000\n",
              "max      414280.000000     3.397108e+07  ...     6139.000000   450224.000000\n",
              "\n",
              "[8 rows x 6 columns]"
            ]
          },
          "metadata": {},
          "execution_count": 5
        }
      ]
    },
    {
      "cell_type": "code",
      "metadata": {
        "id": "9Z0IONAIN3d_"
      },
      "source": [
        "# Storethe data in variables\n",
        "x = np.array(df['Total Confirmed'])\n",
        "y = np.array(df['Total Recovered'])\n",
        "z = np.array(df['Total Deceased'])\n",
        "N = 1370508600"
      ],
      "execution_count": null,
      "outputs": []
    },
    {
      "cell_type": "code",
      "metadata": {
        "id": "u8LMDDxrN5Se"
      },
      "source": [
        "#make the array of susceptible, Infected and Removed peoples\n",
        "sus = np.array(N-x)[-550:]\n",
        "inf = np.array(x-y-z)[-550:]\n",
        "rec = np.array(y+z)[-550:]"
      ],
      "execution_count": null,
      "outputs": []
    },
    {
      "cell_type": "code",
      "metadata": {
        "id": "gzocDaCLN64e"
      },
      "source": [
        "# Make the function to find the beta\n",
        "# beta is average number of contacts per person per time \n",
        "def find_beta(sus,inf,N):\n",
        "  beta = np.zeros(len(sus)-1)\n",
        "  for i in range(len(sus)-1):\n",
        "    beta[i] = -((sus[i+1] - sus[i])*N)/(sus[i]*inf[i])\n",
        "  return beta"
      ],
      "execution_count": null,
      "outputs": []
    },
    {
      "cell_type": "code",
      "metadata": {
        "id": "p2ZZp-n0N951"
      },
      "source": [
        "# Make the functio to find the beta \n",
        "# gamma is probability of an infectious individual recovering in any time interval\n",
        "def find_gamma(inf,rec):\n",
        "  gamma = np.zeros(len(rec)-1)\n",
        "  for i in range(len(rec)-1):\n",
        "    gamma[i] = (rec[i+1]-rec[i])/(inf[i])\n",
        "  return gamma"
      ],
      "execution_count": null,
      "outputs": []
    },
    {
      "cell_type": "code",
      "metadata": {
        "id": "5Afh6TtzKBRs"
      },
      "source": [
        "# Find the beta on training set and the testing set\n",
        "beta_actual = find_beta(sus,inf,N)\n",
        "gamma_actual = find_gamma(inf,rec)"
      ],
      "execution_count": null,
      "outputs": []
    },
    {
      "cell_type": "code",
      "metadata": {
        "id": "nResur2BKHtM"
      },
      "source": [
        "# Make the variable to predict the number of days\n",
        "pdays = 30\n",
        "# form the dataset for alpha and beta\n",
        "beta_df = pd.DataFrame(data=beta_actual,columns= ['beta_actual'])\n",
        "gamma_df = pd.DataFrame(data=gamma_actual,columns = ['gamma_actual'])\n",
        "beta_df['beta_shifted'] = beta_df[['beta_actual']].shift(-pdays)\n",
        "gamma_df['gamma_shifted'] = gamma_df[['gamma_actual']].shift(-pdays)"
      ],
      "execution_count": null,
      "outputs": []
    },
    {
      "cell_type": "code",
      "metadata": {
        "id": "uS9tkidWKajW"
      },
      "source": [
        "# Create the array to fit the model\n",
        "beta_actual = np.array(beta_df['beta_actual']).reshape(-1,1)[:-pdays]\n",
        "beta_shifted = np.array(beta_df['beta_shifted']).reshape(-1,1)[:-pdays]\n",
        "gamma_actual = np.array(gamma_df['gamma_actual']).reshape(-1,1)[:-pdays]\n",
        "gamma_shifted = np.array(gamma_df['gamma_shifted']).reshape(-1,1)[:-pdays]\n",
        "# Create the array to predict the beta and gamma\n",
        "beta_test = np.array(beta_df['beta_actual']).reshape(-1,1)[-pdays:]\n",
        "gamma_test = np.array(gamma_df['gamma_actual']).reshape(-1,1)[-pdays:]"
      ],
      "execution_count": null,
      "outputs": []
    },
    {
      "cell_type": "code",
      "metadata": {
        "id": "y1g64UuXLB3N"
      },
      "source": [
        "# Fit the Linear Regreesoin regressor model to predict beta and gamma\n",
        "from sklearn.linear_model import LinearRegression\n",
        "linreg_beta = LinearRegression().fit(beta_actual, beta_shifted)\n",
        "linreg_gamma = LinearRegression().fit(gamma_actual, gamma_shifted)"
      ],
      "execution_count": null,
      "outputs": []
    },
    {
      "cell_type": "code",
      "metadata": {
        "id": "4EO4-nurMFxc"
      },
      "source": [
        "# Fit the Polynomial Regreesoin regressor model to predict beta and gamma\n",
        "from sklearn.preprocessing import PolynomialFeatures\n",
        "polynom_beta = PolynomialFeatures(degree=15)\n",
        "x_beta = polynom_beta.fit_transform(beta_actual)\n",
        "polyreg_beta = LinearRegression().fit(x_beta, beta_shifted)\n",
        "\n",
        "polynom_gamma = PolynomialFeatures(degree=15)\n",
        "x_gamma = polynom_gamma.fit_transform(gamma_actual)\n",
        "polyreg_gamma = LinearRegression().fit(x_gamma, gamma_shifted)"
      ],
      "execution_count": null,
      "outputs": []
    },
    {
      "cell_type": "code",
      "metadata": {
        "id": "xPKujPZSM261"
      },
      "source": [
        "# Predict the vlaues of beta and gamma for Linear Regression\n",
        "lr_pred_beta = linreg_beta.predict(beta_test)\n",
        "lr_pred_gamma = linreg_gamma.predict(gamma_test)"
      ],
      "execution_count": null,
      "outputs": []
    },
    {
      "cell_type": "code",
      "metadata": {
        "id": "ndKTNBXjNMjm"
      },
      "source": [
        "# Predict the vlaues of beta and gamma for Polynomial Regression\n",
        "poly_pred_beta = polyreg_beta.predict(polynom_beta.fit_transform(beta_test))\n",
        "poly_pred_gamma = polyreg_gamma.predict(polynom_gamma.fit_transform(gamma_test))"
      ],
      "execution_count": null,
      "outputs": []
    },
    {
      "cell_type": "code",
      "metadata": {
        "id": "hbI1Wj1PNqk7"
      },
      "source": [
        "# Make the empty array to predict the redults \n",
        "S_lr = np.zeros(pdays)\n",
        "I_lr = np.zeros(pdays)\n",
        "R_lr = np.zeros(pdays)\n",
        "# Find the present Susceptible, Infected and Recovered peoples and set it into zeroth index\n",
        "S_lr[0] = sus[len(sus)-1]\n",
        "I_lr[0] = inf[len(inf)-1]\n",
        "R_lr[0] = rec[len(rec)-1] \n",
        "# Store the prediction of Decision Tree Regressor in variables \n",
        "beta_lr = lr_pred_beta\n",
        "gamma_lr = lr_pred_gamma"
      ],
      "execution_count": null,
      "outputs": []
    },
    {
      "cell_type": "code",
      "metadata": {
        "id": "pk4d0xFxODZb"
      },
      "source": [
        "# Predict the result using Eulars Integration method\n",
        "for i in range(len(beta_lr)-1):\n",
        "  S_lr[i+1] = S_lr[i] - (beta_lr[i]*S_lr[i]*I_lr[i]/N)\n",
        "  I_lr[i+1] = I_lr[i] - ((beta_lr[i]*S_lr[i]*I_lr[i]/N) - gamma_lr[i]*I_lr[i])\n",
        "  R_lr[i+1] = R_lr[i] + (gamma_lr[i]*I_lr[i])"
      ],
      "execution_count": null,
      "outputs": []
    },
    {
      "cell_type": "code",
      "metadata": {
        "id": "TXG-wvY-OgmE"
      },
      "source": [
        "# Make the empty array to predict the results \n",
        "S_pr = np.zeros(pdays)\n",
        "I_pr = np.zeros(pdays)\n",
        "R_pr = np.zeros(pdays)\n",
        "# Find the present Susceptible, Infected and Recovered peoples and set it into zeroth index\n",
        "S_pr[0] = sus[len(sus)-1]\n",
        "I_pr[0] = inf[len(inf)-1]\n",
        "R_pr[0] = rec[len(rec)-1] \n",
        "# Store the prediction of Decision Tree Regressor in variables \n",
        "beta_pr = poly_pred_beta\n",
        "gamma_pr = poly_pred_gamma"
      ],
      "execution_count": null,
      "outputs": []
    },
    {
      "cell_type": "code",
      "metadata": {
        "id": "nAENbSDdO-PD"
      },
      "source": [
        "# Predict the result using Eulars Integration method\n",
        "for i in range(len(beta_pr)-1):\n",
        "  S_pr[i+1] = S_pr[i] - (beta_pr[i]*S_pr[i]*I_pr[i]/N)\n",
        "  I_pr[i+1] = I_pr[i] - ((beta_pr[i]*S_pr[i]*I_pr[i]/N) - gamma_pr[i]*I_pr[i])\n",
        "  R_pr[i+1] = R_pr[i] + (gamma_pr[i]*I_pr[i])"
      ],
      "execution_count": null,
      "outputs": []
    },
    {
      "cell_type": "code",
      "metadata": {
        "id": "0gfleZyxhvMC"
      },
      "source": [
        "# Fit the decision tree regressor model to predict beta and gamma\n",
        "from sklearn.tree import DecisionTreeRegressor\n",
        "tree_beta = DecisionTreeRegressor().fit(beta_actual,beta_shifted)\n",
        "tree_gamma = DecisionTreeRegressor().fit(gamma_actual,gamma_shifted)"
      ],
      "execution_count": null,
      "outputs": []
    },
    {
      "cell_type": "code",
      "metadata": {
        "id": "m2mYDVWGhvMD",
        "colab": {
          "base_uri": "https://localhost:8080/"
        },
        "outputId": "f65995c3-a103-4586-f740-a1fd537de97a"
      },
      "source": [
        "# Fit the Random Forest Regressor model to preditct beta and gamma\n",
        "from sklearn.ensemble import RandomForestRegressor\n",
        "forest_beta = RandomForestRegressor().fit(beta_actual,beta_shifted)\n",
        "forest_gamma = RandomForestRegressor().fit(gamma_actual,gamma_shifted)"
      ],
      "execution_count": null,
      "outputs": [
        {
          "output_type": "stream",
          "name": "stderr",
          "text": [
            "/usr/local/lib/python3.7/dist-packages/ipykernel_launcher.py:3: DataConversionWarning:\n",
            "\n",
            "A column-vector y was passed when a 1d array was expected. Please change the shape of y to (n_samples,), for example using ravel().\n",
            "\n",
            "/usr/local/lib/python3.7/dist-packages/ipykernel_launcher.py:4: DataConversionWarning:\n",
            "\n",
            "A column-vector y was passed when a 1d array was expected. Please change the shape of y to (n_samples,), for example using ravel().\n",
            "\n"
          ]
        }
      ]
    },
    {
      "cell_type": "code",
      "metadata": {
        "id": "pffPaPJahvME"
      },
      "source": [
        "# Predict the value of beta and gamma for Decision tree regressor\n",
        "prediction_beta = tree_beta.predict((beta_test))\n",
        "prediction_gamma = tree_gamma.predict((gamma_test))"
      ],
      "execution_count": null,
      "outputs": []
    },
    {
      "cell_type": "code",
      "metadata": {
        "id": "xDAwOpIKhvME"
      },
      "source": [
        "# Predict the vlaues of beta and gamma for Random Forest regressor\n",
        "predict_rf_beta = forest_beta.predict((beta_test))\n",
        "predict_rf_gamma = forest_gamma.predict((gamma_test))"
      ],
      "execution_count": null,
      "outputs": []
    },
    {
      "cell_type": "code",
      "metadata": {
        "id": "w4MRikiOj-ur"
      },
      "source": [
        "# Make the empty array to predict the redults \n",
        "S_tr = np.zeros(pdays)\n",
        "I_tr = np.zeros(pdays)\n",
        "R_tr = np.zeros(pdays)\n",
        "# Find the present Susceptible, Infected and Recovered peoples and set it into zeroth index\n",
        "S_tr[0] = sus[len(sus)-1]\n",
        "I_tr[0] = inf[len(inf)-1]\n",
        "R_tr[0] = rec[len(rec)-1] \n",
        "# Store the prediction of Decision Tree Regressor in variables \n",
        "beta_tr = prediction_beta\n",
        "gamma_tr = prediction_gamma"
      ],
      "execution_count": null,
      "outputs": []
    },
    {
      "cell_type": "code",
      "metadata": {
        "id": "2xU42O0nkgfD"
      },
      "source": [
        "# Predict the result using Eulars Integration method\n",
        "for i in range(len(beta_tr)-1):\n",
        "  S_tr[i+1] = S_tr[i] - (beta_tr[i]*S_tr[i]*I_tr[i]/N)\n",
        "  I_tr[i+1] = I_tr[i] - ((beta_tr[i]*S_tr[i]*I_tr[i]/N) - gamma_tr[i]*I_tr[i])\n",
        "  R_tr[i+1] = R_tr[i] + (gamma_tr[i]*I_tr[i])"
      ],
      "execution_count": null,
      "outputs": []
    },
    {
      "cell_type": "code",
      "metadata": {
        "id": "OSp0hHKjkrP-"
      },
      "source": [
        "# Make the empty array to predict the results \n",
        "S_rf = np.zeros(pdays)\n",
        "I_rf = np.zeros(pdays)\n",
        "R_rf = np.zeros(pdays)\n",
        "# Find the present Susceptible, Infected and Recovered peoples and set it into zeroth index\n",
        "S_rf[0] = sus[len(sus)-1]\n",
        "I_rf[0] = inf[len(inf)-1]\n",
        "R_rf[0] = rec[len(rec)-1] \n",
        "# Store the prediction of Decision Tree Regressor in variables \n",
        "beta_rf = predict_rf_beta\n",
        "gamma_rf = predict_rf_gamma"
      ],
      "execution_count": null,
      "outputs": []
    },
    {
      "cell_type": "code",
      "metadata": {
        "id": "SJ_VOe_slAwU"
      },
      "source": [
        "# Predict the result using Eulars Integration method\n",
        "for i in range(len(beta_tr)-1):\n",
        "  S_rf[i+1] = S_rf[i] - (beta_rf[i]*S_rf[i]*I_rf[i]/N)\n",
        "  I_rf[i+1] = I_rf[i] - ((beta_rf[i]*S_rf[i]*I_rf[i]/N) - gamma_rf[i]*I_rf[i])\n",
        "  R_rf[i+1] = R_rf[i] + (gamma_rf[i]*I_rf[i])"
      ],
      "execution_count": null,
      "outputs": []
    },
    {
      "cell_type": "code",
      "metadata": {
        "id": "wdSyOkrtdxea"
      },
      "source": [
        "# Changing format of datetime accouring to preffered format to give to graph to automate date\n",
        "from datetime import datetime \n",
        "date = np.array(df['Date_YMD'][-1:])\n",
        "date_start = df['Date_YMD'][-1:].apply(lambda x: datetime.strptime(str(x), '%Y-%M-%d').strftime('%d/%m/%Y'))\n",
        "date_start = np.array(date_start)[0]"
      ],
      "execution_count": null,
      "outputs": []
    },
    {
      "cell_type": "code",
      "metadata": {
        "colab": {
          "base_uri": "https://localhost:8080/",
          "height": 542
        },
        "id": "Lsl_82jEqSvv",
        "outputId": "28f42bc4-e0dd-480a-bbe6-868e0a37244c"
      },
      "source": [
        "# Create a range of dates\n",
        "date = pd.date_range(start=date_start, periods=29, freq='D')\n",
        "# Plot the graph of acutal future predictions for LR and PR\n",
        "fig = go.Figure()\n",
        "fig.update_layout( title=\"<b>Future Predictions for LR and PR<b>\", xaxis_title=\"<b>Date<b>\", yaxis_title=\"<b>Active Cases<b>\")\n",
        "fig.add_trace(go.Scatter(x = date, y = I_lr, mode='lines+markers', name='Linear regresssion predictions',line=dict(color='red', width=2)))\n",
        "fig.add_trace(go.Scatter(x = date, y = I_pr, mode='lines+markers', name='Polynomial Regression Predictions',line=dict(color='blue', width=2)))\n",
        "fig.show()"
      ],
      "execution_count": null,
      "outputs": [
        {
          "output_type": "display_data",
          "data": {
            "text/html": [
              "<html>\n",
              "<head><meta charset=\"utf-8\" /></head>\n",
              "<body>\n",
              "    <div>\n",
              "            <script src=\"https://cdnjs.cloudflare.com/ajax/libs/mathjax/2.7.5/MathJax.js?config=TeX-AMS-MML_SVG\"></script><script type=\"text/javascript\">if (window.MathJax) {MathJax.Hub.Config({SVG: {font: \"STIX-Web\"}});}</script>\n",
              "                <script type=\"text/javascript\">window.PlotlyConfig = {MathJaxConfig: 'local'};</script>\n",
              "        <script src=\"https://cdn.plot.ly/plotly-latest.min.js\"></script>    \n",
              "            <div id=\"8a21523a-ed85-4c45-aa21-e9c2f9dbe3e6\" class=\"plotly-graph-div\" style=\"height:525px; width:100%;\"></div>\n",
              "            <script type=\"text/javascript\">\n",
              "                \n",
              "                    window.PLOTLYENV=window.PLOTLYENV || {};\n",
              "                    \n",
              "                if (document.getElementById(\"8a21523a-ed85-4c45-aa21-e9c2f9dbe3e6\")) {\n",
              "                    Plotly.newPlot(\n",
              "                        '8a21523a-ed85-4c45-aa21-e9c2f9dbe3e6',\n",
              "                        [{\"line\": {\"color\": \"red\", \"width\": 2}, \"mode\": \"lines+markers\", \"name\": \"Linear regresssion predictions\", \"type\": \"scatter\", \"x\": [\"2021-10-01T00:00:00\", \"2021-10-02T00:00:00\", \"2021-10-03T00:00:00\", \"2021-10-04T00:00:00\", \"2021-10-05T00:00:00\", \"2021-10-06T00:00:00\", \"2021-10-07T00:00:00\", \"2021-10-08T00:00:00\", \"2021-10-09T00:00:00\", \"2021-10-10T00:00:00\", \"2021-10-11T00:00:00\", \"2021-10-12T00:00:00\", \"2021-10-13T00:00:00\", \"2021-10-14T00:00:00\", \"2021-10-15T00:00:00\", \"2021-10-16T00:00:00\", \"2021-10-17T00:00:00\", \"2021-10-18T00:00:00\", \"2021-10-19T00:00:00\", \"2021-10-20T00:00:00\", \"2021-10-21T00:00:00\", \"2021-10-22T00:00:00\", \"2021-10-23T00:00:00\", \"2021-10-24T00:00:00\", \"2021-10-25T00:00:00\", \"2021-10-26T00:00:00\", \"2021-10-27T00:00:00\", \"2021-10-28T00:00:00\", \"2021-10-29T00:00:00\"], \"y\": [235131.0, 236734.44176104083, 239396.9823086731, 243043.52824197558, 246053.19257412592, 249170.66498842946, 251661.33564415234, 252481.775802436, 256368.77446418756, 262193.3704727083, 265747.557592857, 269164.39990268974, 270859.11747637874, 272965.2357892447, 273244.1336541238, 272734.02253394894, 274212.8669806648, 275448.2916251154, 278623.5622050268, 281197.7226402474, 282792.8506953192, 283614.25318737346, 284941.11304092035, 287158.1336215699, 292469.0960691413, 294972.33249155624, 296760.7162693029, 299165.71596650034, 300881.0236891773, 303648.0633463099]}, {\"line\": {\"color\": \"blue\", \"width\": 2}, \"mode\": \"lines+markers\", \"name\": \"Polynomial Regression Predictions\", \"type\": \"scatter\", \"x\": [\"2021-10-01T00:00:00\", \"2021-10-02T00:00:00\", \"2021-10-03T00:00:00\", \"2021-10-04T00:00:00\", \"2021-10-05T00:00:00\", \"2021-10-06T00:00:00\", \"2021-10-07T00:00:00\", \"2021-10-08T00:00:00\", \"2021-10-09T00:00:00\", \"2021-10-10T00:00:00\", \"2021-10-11T00:00:00\", \"2021-10-12T00:00:00\", \"2021-10-13T00:00:00\", \"2021-10-14T00:00:00\", \"2021-10-15T00:00:00\", \"2021-10-16T00:00:00\", \"2021-10-17T00:00:00\", \"2021-10-18T00:00:00\", \"2021-10-19T00:00:00\", \"2021-10-20T00:00:00\", \"2021-10-21T00:00:00\", \"2021-10-22T00:00:00\", \"2021-10-23T00:00:00\", \"2021-10-24T00:00:00\", \"2021-10-25T00:00:00\", \"2021-10-26T00:00:00\", \"2021-10-27T00:00:00\", \"2021-10-28T00:00:00\", \"2021-10-29T00:00:00\"], \"y\": [235131.0, 238082.46839112142, 241288.89683824326, 242701.21591468755, 245332.53366262215, 248110.48027797882, 249048.16028220073, 250329.3752773584, 252703.1459742739, 255474.81072210972, 258458.3768358806, 261069.52645700664, 262330.9935169193, 263453.0272043965, 264276.33384952694, 264456.4690165711, 267231.74018823786, 263793.7943161324, 266513.83107784693, 270225.58834399213, 271698.6484606008, 274276.1127347667, 277512.3587896649, 281145.8555305024, 282693.39081338886, 285472.750846437, 288116.4445236467, 291596.94732157787, 295284.64146783046, 298310.11360827135]}],\n",
              "                        {\"template\": {\"data\": {\"bar\": [{\"error_x\": {\"color\": \"#2a3f5f\"}, \"error_y\": {\"color\": \"#2a3f5f\"}, \"marker\": {\"line\": {\"color\": \"#E5ECF6\", \"width\": 0.5}}, \"type\": \"bar\"}], \"barpolar\": [{\"marker\": {\"line\": {\"color\": \"#E5ECF6\", \"width\": 0.5}}, \"type\": \"barpolar\"}], \"carpet\": [{\"aaxis\": {\"endlinecolor\": \"#2a3f5f\", \"gridcolor\": \"white\", \"linecolor\": \"white\", \"minorgridcolor\": \"white\", \"startlinecolor\": \"#2a3f5f\"}, \"baxis\": {\"endlinecolor\": \"#2a3f5f\", \"gridcolor\": \"white\", \"linecolor\": \"white\", \"minorgridcolor\": \"white\", \"startlinecolor\": \"#2a3f5f\"}, \"type\": \"carpet\"}], \"choropleth\": [{\"colorbar\": {\"outlinewidth\": 0, \"ticks\": \"\"}, \"type\": \"choropleth\"}], \"contour\": [{\"colorbar\": {\"outlinewidth\": 0, \"ticks\": \"\"}, \"colorscale\": [[0.0, \"#0d0887\"], [0.1111111111111111, \"#46039f\"], [0.2222222222222222, \"#7201a8\"], [0.3333333333333333, \"#9c179e\"], [0.4444444444444444, \"#bd3786\"], [0.5555555555555556, \"#d8576b\"], [0.6666666666666666, \"#ed7953\"], [0.7777777777777778, \"#fb9f3a\"], [0.8888888888888888, \"#fdca26\"], [1.0, \"#f0f921\"]], \"type\": \"contour\"}], \"contourcarpet\": [{\"colorbar\": {\"outlinewidth\": 0, \"ticks\": \"\"}, \"type\": \"contourcarpet\"}], \"heatmap\": [{\"colorbar\": {\"outlinewidth\": 0, \"ticks\": \"\"}, \"colorscale\": [[0.0, \"#0d0887\"], [0.1111111111111111, \"#46039f\"], [0.2222222222222222, \"#7201a8\"], [0.3333333333333333, \"#9c179e\"], [0.4444444444444444, \"#bd3786\"], [0.5555555555555556, \"#d8576b\"], [0.6666666666666666, \"#ed7953\"], [0.7777777777777778, \"#fb9f3a\"], [0.8888888888888888, \"#fdca26\"], [1.0, \"#f0f921\"]], \"type\": \"heatmap\"}], \"heatmapgl\": [{\"colorbar\": {\"outlinewidth\": 0, \"ticks\": \"\"}, \"colorscale\": [[0.0, \"#0d0887\"], [0.1111111111111111, \"#46039f\"], [0.2222222222222222, \"#7201a8\"], [0.3333333333333333, \"#9c179e\"], [0.4444444444444444, \"#bd3786\"], [0.5555555555555556, \"#d8576b\"], [0.6666666666666666, \"#ed7953\"], [0.7777777777777778, \"#fb9f3a\"], [0.8888888888888888, \"#fdca26\"], [1.0, \"#f0f921\"]], \"type\": \"heatmapgl\"}], \"histogram\": [{\"marker\": {\"colorbar\": {\"outlinewidth\": 0, \"ticks\": \"\"}}, \"type\": \"histogram\"}], \"histogram2d\": [{\"colorbar\": {\"outlinewidth\": 0, \"ticks\": \"\"}, \"colorscale\": [[0.0, \"#0d0887\"], [0.1111111111111111, \"#46039f\"], [0.2222222222222222, \"#7201a8\"], [0.3333333333333333, \"#9c179e\"], [0.4444444444444444, \"#bd3786\"], [0.5555555555555556, \"#d8576b\"], [0.6666666666666666, \"#ed7953\"], [0.7777777777777778, \"#fb9f3a\"], [0.8888888888888888, \"#fdca26\"], [1.0, \"#f0f921\"]], \"type\": \"histogram2d\"}], \"histogram2dcontour\": [{\"colorbar\": {\"outlinewidth\": 0, \"ticks\": \"\"}, \"colorscale\": [[0.0, \"#0d0887\"], [0.1111111111111111, \"#46039f\"], [0.2222222222222222, \"#7201a8\"], [0.3333333333333333, \"#9c179e\"], [0.4444444444444444, \"#bd3786\"], [0.5555555555555556, \"#d8576b\"], [0.6666666666666666, \"#ed7953\"], [0.7777777777777778, \"#fb9f3a\"], [0.8888888888888888, \"#fdca26\"], [1.0, \"#f0f921\"]], \"type\": \"histogram2dcontour\"}], \"mesh3d\": [{\"colorbar\": {\"outlinewidth\": 0, \"ticks\": \"\"}, \"type\": \"mesh3d\"}], \"parcoords\": [{\"line\": {\"colorbar\": {\"outlinewidth\": 0, \"ticks\": \"\"}}, \"type\": \"parcoords\"}], \"pie\": [{\"automargin\": true, \"type\": \"pie\"}], \"scatter\": [{\"marker\": {\"colorbar\": {\"outlinewidth\": 0, \"ticks\": \"\"}}, \"type\": \"scatter\"}], \"scatter3d\": [{\"line\": {\"colorbar\": {\"outlinewidth\": 0, \"ticks\": \"\"}}, \"marker\": {\"colorbar\": {\"outlinewidth\": 0, \"ticks\": \"\"}}, \"type\": \"scatter3d\"}], \"scattercarpet\": [{\"marker\": {\"colorbar\": {\"outlinewidth\": 0, \"ticks\": \"\"}}, \"type\": \"scattercarpet\"}], \"scattergeo\": [{\"marker\": {\"colorbar\": {\"outlinewidth\": 0, \"ticks\": \"\"}}, \"type\": \"scattergeo\"}], \"scattergl\": [{\"marker\": {\"colorbar\": {\"outlinewidth\": 0, \"ticks\": \"\"}}, \"type\": \"scattergl\"}], \"scattermapbox\": [{\"marker\": {\"colorbar\": {\"outlinewidth\": 0, \"ticks\": \"\"}}, \"type\": \"scattermapbox\"}], \"scatterpolar\": [{\"marker\": {\"colorbar\": {\"outlinewidth\": 0, \"ticks\": \"\"}}, \"type\": \"scatterpolar\"}], \"scatterpolargl\": [{\"marker\": {\"colorbar\": {\"outlinewidth\": 0, \"ticks\": \"\"}}, \"type\": \"scatterpolargl\"}], \"scatterternary\": [{\"marker\": {\"colorbar\": {\"outlinewidth\": 0, \"ticks\": \"\"}}, \"type\": \"scatterternary\"}], \"surface\": [{\"colorbar\": {\"outlinewidth\": 0, \"ticks\": \"\"}, \"colorscale\": [[0.0, \"#0d0887\"], [0.1111111111111111, \"#46039f\"], [0.2222222222222222, \"#7201a8\"], [0.3333333333333333, \"#9c179e\"], [0.4444444444444444, \"#bd3786\"], [0.5555555555555556, \"#d8576b\"], [0.6666666666666666, \"#ed7953\"], [0.7777777777777778, \"#fb9f3a\"], [0.8888888888888888, \"#fdca26\"], [1.0, \"#f0f921\"]], \"type\": \"surface\"}], \"table\": [{\"cells\": {\"fill\": {\"color\": \"#EBF0F8\"}, \"line\": {\"color\": \"white\"}}, \"header\": {\"fill\": {\"color\": \"#C8D4E3\"}, \"line\": {\"color\": \"white\"}}, \"type\": \"table\"}]}, \"layout\": {\"annotationdefaults\": {\"arrowcolor\": \"#2a3f5f\", \"arrowhead\": 0, \"arrowwidth\": 1}, \"coloraxis\": {\"colorbar\": {\"outlinewidth\": 0, \"ticks\": \"\"}}, \"colorscale\": {\"diverging\": [[0, \"#8e0152\"], [0.1, \"#c51b7d\"], [0.2, \"#de77ae\"], [0.3, \"#f1b6da\"], [0.4, \"#fde0ef\"], [0.5, \"#f7f7f7\"], [0.6, \"#e6f5d0\"], [0.7, \"#b8e186\"], [0.8, \"#7fbc41\"], [0.9, \"#4d9221\"], [1, \"#276419\"]], \"sequential\": [[0.0, \"#0d0887\"], [0.1111111111111111, \"#46039f\"], [0.2222222222222222, \"#7201a8\"], [0.3333333333333333, \"#9c179e\"], [0.4444444444444444, \"#bd3786\"], [0.5555555555555556, \"#d8576b\"], [0.6666666666666666, \"#ed7953\"], [0.7777777777777778, \"#fb9f3a\"], [0.8888888888888888, \"#fdca26\"], [1.0, \"#f0f921\"]], \"sequentialminus\": [[0.0, \"#0d0887\"], [0.1111111111111111, \"#46039f\"], [0.2222222222222222, \"#7201a8\"], [0.3333333333333333, \"#9c179e\"], [0.4444444444444444, \"#bd3786\"], [0.5555555555555556, \"#d8576b\"], [0.6666666666666666, \"#ed7953\"], [0.7777777777777778, \"#fb9f3a\"], [0.8888888888888888, \"#fdca26\"], [1.0, \"#f0f921\"]]}, \"colorway\": [\"#636efa\", \"#EF553B\", \"#00cc96\", \"#ab63fa\", \"#FFA15A\", \"#19d3f3\", \"#FF6692\", \"#B6E880\", \"#FF97FF\", \"#FECB52\"], \"font\": {\"color\": \"#2a3f5f\"}, \"geo\": {\"bgcolor\": \"white\", \"lakecolor\": \"white\", \"landcolor\": \"#E5ECF6\", \"showlakes\": true, \"showland\": true, \"subunitcolor\": \"white\"}, \"hoverlabel\": {\"align\": \"left\"}, \"hovermode\": \"closest\", \"mapbox\": {\"style\": \"light\"}, \"paper_bgcolor\": \"white\", \"plot_bgcolor\": \"#E5ECF6\", \"polar\": {\"angularaxis\": {\"gridcolor\": \"white\", \"linecolor\": \"white\", \"ticks\": \"\"}, \"bgcolor\": \"#E5ECF6\", \"radialaxis\": {\"gridcolor\": \"white\", \"linecolor\": \"white\", \"ticks\": \"\"}}, \"scene\": {\"xaxis\": {\"backgroundcolor\": \"#E5ECF6\", \"gridcolor\": \"white\", \"gridwidth\": 2, \"linecolor\": \"white\", \"showbackground\": true, \"ticks\": \"\", \"zerolinecolor\": \"white\"}, \"yaxis\": {\"backgroundcolor\": \"#E5ECF6\", \"gridcolor\": \"white\", \"gridwidth\": 2, \"linecolor\": \"white\", \"showbackground\": true, \"ticks\": \"\", \"zerolinecolor\": \"white\"}, \"zaxis\": {\"backgroundcolor\": \"#E5ECF6\", \"gridcolor\": \"white\", \"gridwidth\": 2, \"linecolor\": \"white\", \"showbackground\": true, \"ticks\": \"\", \"zerolinecolor\": \"white\"}}, \"shapedefaults\": {\"line\": {\"color\": \"#2a3f5f\"}}, \"ternary\": {\"aaxis\": {\"gridcolor\": \"white\", \"linecolor\": \"white\", \"ticks\": \"\"}, \"baxis\": {\"gridcolor\": \"white\", \"linecolor\": \"white\", \"ticks\": \"\"}, \"bgcolor\": \"#E5ECF6\", \"caxis\": {\"gridcolor\": \"white\", \"linecolor\": \"white\", \"ticks\": \"\"}}, \"title\": {\"x\": 0.05}, \"xaxis\": {\"automargin\": true, \"gridcolor\": \"white\", \"linecolor\": \"white\", \"ticks\": \"\", \"title\": {\"standoff\": 15}, \"zerolinecolor\": \"white\", \"zerolinewidth\": 2}, \"yaxis\": {\"automargin\": true, \"gridcolor\": \"white\", \"linecolor\": \"white\", \"ticks\": \"\", \"title\": {\"standoff\": 15}, \"zerolinecolor\": \"white\", \"zerolinewidth\": 2}}}, \"title\": {\"text\": \"<b>Future Predictions for LR and PR<b>\"}, \"xaxis\": {\"title\": {\"text\": \"<b>Date<b>\"}}, \"yaxis\": {\"title\": {\"text\": \"<b>Active Cases<b>\"}}},\n",
              "                        {\"responsive\": true}\n",
              "                    ).then(function(){\n",
              "                            \n",
              "var gd = document.getElementById('8a21523a-ed85-4c45-aa21-e9c2f9dbe3e6');\n",
              "var x = new MutationObserver(function (mutations, observer) {{\n",
              "        var display = window.getComputedStyle(gd).display;\n",
              "        if (!display || display === 'none') {{\n",
              "            console.log([gd, 'removed!']);\n",
              "            Plotly.purge(gd);\n",
              "            observer.disconnect();\n",
              "        }}\n",
              "}});\n",
              "\n",
              "// Listen for the removal of the full notebook cells\n",
              "var notebookContainer = gd.closest('#notebook-container');\n",
              "if (notebookContainer) {{\n",
              "    x.observe(notebookContainer, {childList: true});\n",
              "}}\n",
              "\n",
              "// Listen for the clearing of the current output cell\n",
              "var outputEl = gd.closest('.output');\n",
              "if (outputEl) {{\n",
              "    x.observe(outputEl, {childList: true});\n",
              "}}\n",
              "\n",
              "                        })\n",
              "                };\n",
              "                \n",
              "            </script>\n",
              "        </div>\n",
              "</body>\n",
              "</html>"
            ]
          },
          "metadata": {}
        }
      ]
    },
    {
      "cell_type": "code",
      "metadata": {
        "colab": {
          "base_uri": "https://localhost:8080/",
          "height": 542
        },
        "id": "ppuy1oQ7qvWP",
        "outputId": "f673cb8f-c003-4167-9227-4dfd0f53a140"
      },
      "source": [
        "# Plot the graph of acutal future predictions for LR and PR\n",
        "fig = go.Figure()\n",
        "fig.update_layout( title=\"<b>Future Predictions for Decision tree and Random forest<b>\", xaxis_title=\"<b>Date<b>\", yaxis_title=\"<b>Active Cases<b>\")\n",
        "fig.add_trace(go.Scatter(x = date, y = I_tr, mode='lines+markers', name='Decision tree predictions',line=dict(color='green', width=2)))\n",
        "fig.add_trace(go.Scatter(x = date, y = I_rf, mode='lines+markers', name='Random forest Predictions',line=dict(color='blue', width=2)))\n",
        "fig.show()"
      ],
      "execution_count": null,
      "outputs": [
        {
          "output_type": "display_data",
          "data": {
            "text/html": [
              "<html>\n",
              "<head><meta charset=\"utf-8\" /></head>\n",
              "<body>\n",
              "    <div>\n",
              "            <script src=\"https://cdnjs.cloudflare.com/ajax/libs/mathjax/2.7.5/MathJax.js?config=TeX-AMS-MML_SVG\"></script><script type=\"text/javascript\">if (window.MathJax) {MathJax.Hub.Config({SVG: {font: \"STIX-Web\"}});}</script>\n",
              "                <script type=\"text/javascript\">window.PlotlyConfig = {MathJaxConfig: 'local'};</script>\n",
              "        <script src=\"https://cdn.plot.ly/plotly-latest.min.js\"></script>    \n",
              "            <div id=\"dc277546-1f50-4d24-92d3-e392f6ab4618\" class=\"plotly-graph-div\" style=\"height:525px; width:100%;\"></div>\n",
              "            <script type=\"text/javascript\">\n",
              "                \n",
              "                    window.PLOTLYENV=window.PLOTLYENV || {};\n",
              "                    \n",
              "                if (document.getElementById(\"dc277546-1f50-4d24-92d3-e392f6ab4618\")) {\n",
              "                    Plotly.newPlot(\n",
              "                        'dc277546-1f50-4d24-92d3-e392f6ab4618',\n",
              "                        [{\"line\": {\"color\": \"green\", \"width\": 2}, \"mode\": \"lines+markers\", \"name\": \"Decision tree predictions\", \"type\": \"scatter\", \"x\": [\"2021-10-01T00:00:00\", \"2021-10-02T00:00:00\", \"2021-10-03T00:00:00\", \"2021-10-04T00:00:00\", \"2021-10-05T00:00:00\", \"2021-10-06T00:00:00\", \"2021-10-07T00:00:00\", \"2021-10-08T00:00:00\", \"2021-10-09T00:00:00\", \"2021-10-10T00:00:00\", \"2021-10-11T00:00:00\", \"2021-10-12T00:00:00\", \"2021-10-13T00:00:00\", \"2021-10-14T00:00:00\", \"2021-10-15T00:00:00\", \"2021-10-16T00:00:00\", \"2021-10-17T00:00:00\", \"2021-10-18T00:00:00\", \"2021-10-19T00:00:00\", \"2021-10-20T00:00:00\", \"2021-10-21T00:00:00\", \"2021-10-22T00:00:00\", \"2021-10-23T00:00:00\", \"2021-10-24T00:00:00\", \"2021-10-25T00:00:00\", \"2021-10-26T00:00:00\", \"2021-10-27T00:00:00\", \"2021-10-28T00:00:00\", \"2021-10-29T00:00:00\"], \"y\": [235131.0, 242268.26760758262, 247682.98744459194, 246311.6052689383, 247271.659686637, 243789.167772469, 242111.59892089225, 248171.73765646684, 260436.77738704963, 264012.5223618629, 269253.03026811866, 266967.60559370037, 270240.2908765154, 267266.88885926217, 278586.09674463037, 288535.53519013466, 297307.59883792896, 292543.8170535963, 294590.3888634909, 298207.0121549957, 309662.8076062906, 305629.59290343936, 303663.05140817247, 303364.2452018664, 289751.46805731114, 291268.736305833, 298241.38317357155, 291561.8275416816, 300400.83102327277, 282321.813198233]}, {\"line\": {\"color\": \"blue\", \"width\": 2}, \"mode\": \"lines+markers\", \"name\": \"Random forest Predictions\", \"type\": \"scatter\", \"x\": [\"2021-10-01T00:00:00\", \"2021-10-02T00:00:00\", \"2021-10-03T00:00:00\", \"2021-10-04T00:00:00\", \"2021-10-05T00:00:00\", \"2021-10-06T00:00:00\", \"2021-10-07T00:00:00\", \"2021-10-08T00:00:00\", \"2021-10-09T00:00:00\", \"2021-10-10T00:00:00\", \"2021-10-11T00:00:00\", \"2021-10-12T00:00:00\", \"2021-10-13T00:00:00\", \"2021-10-14T00:00:00\", \"2021-10-15T00:00:00\", \"2021-10-16T00:00:00\", \"2021-10-17T00:00:00\", \"2021-10-18T00:00:00\", \"2021-10-19T00:00:00\", \"2021-10-20T00:00:00\", \"2021-10-21T00:00:00\", \"2021-10-22T00:00:00\", \"2021-10-23T00:00:00\", \"2021-10-24T00:00:00\", \"2021-10-25T00:00:00\", \"2021-10-26T00:00:00\", \"2021-10-27T00:00:00\", \"2021-10-28T00:00:00\", \"2021-10-29T00:00:00\"], \"y\": [235131.0, 243806.91485849887, 248709.96055251517, 246835.6470094596, 248546.59043325725, 250421.96918138175, 248380.42932836266, 253688.86037109027, 265771.5210947554, 264580.05752873875, 269184.7494382952, 268220.74106516613, 271284.65793982474, 271495.0439776453, 274221.84484775946, 280545.1173210182, 286790.9653628449, 282603.4582447604, 282338.2624628898, 284914.2927911315, 288215.914192483, 288828.87921546225, 289215.70445790194, 291489.61832804955, 284222.0225966695, 287118.58424951404, 292469.7978993133, 286749.86638242996, 294058.7653579748, 283279.11309805786]}],\n",
              "                        {\"template\": {\"data\": {\"bar\": [{\"error_x\": {\"color\": \"#2a3f5f\"}, \"error_y\": {\"color\": \"#2a3f5f\"}, \"marker\": {\"line\": {\"color\": \"#E5ECF6\", \"width\": 0.5}}, \"type\": \"bar\"}], \"barpolar\": [{\"marker\": {\"line\": {\"color\": \"#E5ECF6\", \"width\": 0.5}}, \"type\": \"barpolar\"}], \"carpet\": [{\"aaxis\": {\"endlinecolor\": \"#2a3f5f\", \"gridcolor\": \"white\", \"linecolor\": \"white\", \"minorgridcolor\": \"white\", \"startlinecolor\": \"#2a3f5f\"}, \"baxis\": {\"endlinecolor\": \"#2a3f5f\", \"gridcolor\": \"white\", \"linecolor\": \"white\", \"minorgridcolor\": \"white\", \"startlinecolor\": \"#2a3f5f\"}, \"type\": \"carpet\"}], \"choropleth\": [{\"colorbar\": {\"outlinewidth\": 0, \"ticks\": \"\"}, \"type\": \"choropleth\"}], \"contour\": [{\"colorbar\": {\"outlinewidth\": 0, \"ticks\": \"\"}, \"colorscale\": [[0.0, \"#0d0887\"], [0.1111111111111111, \"#46039f\"], [0.2222222222222222, \"#7201a8\"], [0.3333333333333333, \"#9c179e\"], [0.4444444444444444, \"#bd3786\"], [0.5555555555555556, \"#d8576b\"], [0.6666666666666666, \"#ed7953\"], [0.7777777777777778, \"#fb9f3a\"], [0.8888888888888888, \"#fdca26\"], [1.0, \"#f0f921\"]], \"type\": \"contour\"}], \"contourcarpet\": [{\"colorbar\": {\"outlinewidth\": 0, \"ticks\": \"\"}, \"type\": \"contourcarpet\"}], \"heatmap\": [{\"colorbar\": {\"outlinewidth\": 0, \"ticks\": \"\"}, \"colorscale\": [[0.0, \"#0d0887\"], [0.1111111111111111, \"#46039f\"], [0.2222222222222222, \"#7201a8\"], [0.3333333333333333, \"#9c179e\"], [0.4444444444444444, \"#bd3786\"], [0.5555555555555556, \"#d8576b\"], [0.6666666666666666, \"#ed7953\"], [0.7777777777777778, \"#fb9f3a\"], [0.8888888888888888, \"#fdca26\"], [1.0, \"#f0f921\"]], \"type\": \"heatmap\"}], \"heatmapgl\": [{\"colorbar\": {\"outlinewidth\": 0, \"ticks\": \"\"}, \"colorscale\": [[0.0, \"#0d0887\"], [0.1111111111111111, \"#46039f\"], [0.2222222222222222, \"#7201a8\"], [0.3333333333333333, \"#9c179e\"], [0.4444444444444444, \"#bd3786\"], [0.5555555555555556, \"#d8576b\"], [0.6666666666666666, \"#ed7953\"], [0.7777777777777778, \"#fb9f3a\"], [0.8888888888888888, \"#fdca26\"], [1.0, \"#f0f921\"]], \"type\": \"heatmapgl\"}], \"histogram\": [{\"marker\": {\"colorbar\": {\"outlinewidth\": 0, \"ticks\": \"\"}}, \"type\": \"histogram\"}], \"histogram2d\": [{\"colorbar\": {\"outlinewidth\": 0, \"ticks\": \"\"}, \"colorscale\": [[0.0, \"#0d0887\"], [0.1111111111111111, \"#46039f\"], [0.2222222222222222, \"#7201a8\"], [0.3333333333333333, \"#9c179e\"], [0.4444444444444444, \"#bd3786\"], [0.5555555555555556, \"#d8576b\"], [0.6666666666666666, \"#ed7953\"], [0.7777777777777778, \"#fb9f3a\"], [0.8888888888888888, \"#fdca26\"], [1.0, \"#f0f921\"]], \"type\": \"histogram2d\"}], \"histogram2dcontour\": [{\"colorbar\": {\"outlinewidth\": 0, \"ticks\": \"\"}, \"colorscale\": [[0.0, \"#0d0887\"], [0.1111111111111111, \"#46039f\"], [0.2222222222222222, \"#7201a8\"], [0.3333333333333333, \"#9c179e\"], [0.4444444444444444, \"#bd3786\"], [0.5555555555555556, \"#d8576b\"], [0.6666666666666666, \"#ed7953\"], [0.7777777777777778, \"#fb9f3a\"], [0.8888888888888888, \"#fdca26\"], [1.0, \"#f0f921\"]], \"type\": \"histogram2dcontour\"}], \"mesh3d\": [{\"colorbar\": {\"outlinewidth\": 0, \"ticks\": \"\"}, \"type\": \"mesh3d\"}], \"parcoords\": [{\"line\": {\"colorbar\": {\"outlinewidth\": 0, \"ticks\": \"\"}}, \"type\": \"parcoords\"}], \"pie\": [{\"automargin\": true, \"type\": \"pie\"}], \"scatter\": [{\"marker\": {\"colorbar\": {\"outlinewidth\": 0, \"ticks\": \"\"}}, \"type\": \"scatter\"}], \"scatter3d\": [{\"line\": {\"colorbar\": {\"outlinewidth\": 0, \"ticks\": \"\"}}, \"marker\": {\"colorbar\": {\"outlinewidth\": 0, \"ticks\": \"\"}}, \"type\": \"scatter3d\"}], \"scattercarpet\": [{\"marker\": {\"colorbar\": {\"outlinewidth\": 0, \"ticks\": \"\"}}, \"type\": \"scattercarpet\"}], \"scattergeo\": [{\"marker\": {\"colorbar\": {\"outlinewidth\": 0, \"ticks\": \"\"}}, \"type\": \"scattergeo\"}], \"scattergl\": [{\"marker\": {\"colorbar\": {\"outlinewidth\": 0, \"ticks\": \"\"}}, \"type\": \"scattergl\"}], \"scattermapbox\": [{\"marker\": {\"colorbar\": {\"outlinewidth\": 0, \"ticks\": \"\"}}, \"type\": \"scattermapbox\"}], \"scatterpolar\": [{\"marker\": {\"colorbar\": {\"outlinewidth\": 0, \"ticks\": \"\"}}, \"type\": \"scatterpolar\"}], \"scatterpolargl\": [{\"marker\": {\"colorbar\": {\"outlinewidth\": 0, \"ticks\": \"\"}}, \"type\": \"scatterpolargl\"}], \"scatterternary\": [{\"marker\": {\"colorbar\": {\"outlinewidth\": 0, \"ticks\": \"\"}}, \"type\": \"scatterternary\"}], \"surface\": [{\"colorbar\": {\"outlinewidth\": 0, \"ticks\": \"\"}, \"colorscale\": [[0.0, \"#0d0887\"], [0.1111111111111111, \"#46039f\"], [0.2222222222222222, \"#7201a8\"], [0.3333333333333333, \"#9c179e\"], [0.4444444444444444, \"#bd3786\"], [0.5555555555555556, \"#d8576b\"], [0.6666666666666666, \"#ed7953\"], [0.7777777777777778, \"#fb9f3a\"], [0.8888888888888888, \"#fdca26\"], [1.0, \"#f0f921\"]], \"type\": \"surface\"}], \"table\": [{\"cells\": {\"fill\": {\"color\": \"#EBF0F8\"}, \"line\": {\"color\": \"white\"}}, \"header\": {\"fill\": {\"color\": \"#C8D4E3\"}, \"line\": {\"color\": \"white\"}}, \"type\": \"table\"}]}, \"layout\": {\"annotationdefaults\": {\"arrowcolor\": \"#2a3f5f\", \"arrowhead\": 0, \"arrowwidth\": 1}, \"coloraxis\": {\"colorbar\": {\"outlinewidth\": 0, \"ticks\": \"\"}}, \"colorscale\": {\"diverging\": [[0, \"#8e0152\"], [0.1, \"#c51b7d\"], [0.2, \"#de77ae\"], [0.3, \"#f1b6da\"], [0.4, \"#fde0ef\"], [0.5, \"#f7f7f7\"], [0.6, \"#e6f5d0\"], [0.7, \"#b8e186\"], [0.8, \"#7fbc41\"], [0.9, \"#4d9221\"], [1, \"#276419\"]], \"sequential\": [[0.0, \"#0d0887\"], [0.1111111111111111, \"#46039f\"], [0.2222222222222222, \"#7201a8\"], [0.3333333333333333, \"#9c179e\"], [0.4444444444444444, \"#bd3786\"], [0.5555555555555556, \"#d8576b\"], [0.6666666666666666, \"#ed7953\"], [0.7777777777777778, \"#fb9f3a\"], [0.8888888888888888, \"#fdca26\"], [1.0, \"#f0f921\"]], \"sequentialminus\": [[0.0, \"#0d0887\"], [0.1111111111111111, \"#46039f\"], [0.2222222222222222, \"#7201a8\"], [0.3333333333333333, \"#9c179e\"], [0.4444444444444444, \"#bd3786\"], [0.5555555555555556, \"#d8576b\"], [0.6666666666666666, \"#ed7953\"], [0.7777777777777778, \"#fb9f3a\"], [0.8888888888888888, \"#fdca26\"], [1.0, \"#f0f921\"]]}, \"colorway\": [\"#636efa\", \"#EF553B\", \"#00cc96\", \"#ab63fa\", \"#FFA15A\", \"#19d3f3\", \"#FF6692\", \"#B6E880\", \"#FF97FF\", \"#FECB52\"], \"font\": {\"color\": \"#2a3f5f\"}, \"geo\": {\"bgcolor\": \"white\", \"lakecolor\": \"white\", \"landcolor\": \"#E5ECF6\", \"showlakes\": true, \"showland\": true, \"subunitcolor\": \"white\"}, \"hoverlabel\": {\"align\": \"left\"}, \"hovermode\": \"closest\", \"mapbox\": {\"style\": \"light\"}, \"paper_bgcolor\": \"white\", \"plot_bgcolor\": \"#E5ECF6\", \"polar\": {\"angularaxis\": {\"gridcolor\": \"white\", \"linecolor\": \"white\", \"ticks\": \"\"}, \"bgcolor\": \"#E5ECF6\", \"radialaxis\": {\"gridcolor\": \"white\", \"linecolor\": \"white\", \"ticks\": \"\"}}, \"scene\": {\"xaxis\": {\"backgroundcolor\": \"#E5ECF6\", \"gridcolor\": \"white\", \"gridwidth\": 2, \"linecolor\": \"white\", \"showbackground\": true, \"ticks\": \"\", \"zerolinecolor\": \"white\"}, \"yaxis\": {\"backgroundcolor\": \"#E5ECF6\", \"gridcolor\": \"white\", \"gridwidth\": 2, \"linecolor\": \"white\", \"showbackground\": true, \"ticks\": \"\", \"zerolinecolor\": \"white\"}, \"zaxis\": {\"backgroundcolor\": \"#E5ECF6\", \"gridcolor\": \"white\", \"gridwidth\": 2, \"linecolor\": \"white\", \"showbackground\": true, \"ticks\": \"\", \"zerolinecolor\": \"white\"}}, \"shapedefaults\": {\"line\": {\"color\": \"#2a3f5f\"}}, \"ternary\": {\"aaxis\": {\"gridcolor\": \"white\", \"linecolor\": \"white\", \"ticks\": \"\"}, \"baxis\": {\"gridcolor\": \"white\", \"linecolor\": \"white\", \"ticks\": \"\"}, \"bgcolor\": \"#E5ECF6\", \"caxis\": {\"gridcolor\": \"white\", \"linecolor\": \"white\", \"ticks\": \"\"}}, \"title\": {\"x\": 0.05}, \"xaxis\": {\"automargin\": true, \"gridcolor\": \"white\", \"linecolor\": \"white\", \"ticks\": \"\", \"title\": {\"standoff\": 15}, \"zerolinecolor\": \"white\", \"zerolinewidth\": 2}, \"yaxis\": {\"automargin\": true, \"gridcolor\": \"white\", \"linecolor\": \"white\", \"ticks\": \"\", \"title\": {\"standoff\": 15}, \"zerolinecolor\": \"white\", \"zerolinewidth\": 2}}}, \"title\": {\"text\": \"<b>Future Predictions for Decision tree and Random forest<b>\"}, \"xaxis\": {\"title\": {\"text\": \"<b>Date<b>\"}}, \"yaxis\": {\"title\": {\"text\": \"<b>Active Cases<b>\"}}},\n",
              "                        {\"responsive\": true}\n",
              "                    ).then(function(){\n",
              "                            \n",
              "var gd = document.getElementById('dc277546-1f50-4d24-92d3-e392f6ab4618');\n",
              "var x = new MutationObserver(function (mutations, observer) {{\n",
              "        var display = window.getComputedStyle(gd).display;\n",
              "        if (!display || display === 'none') {{\n",
              "            console.log([gd, 'removed!']);\n",
              "            Plotly.purge(gd);\n",
              "            observer.disconnect();\n",
              "        }}\n",
              "}});\n",
              "\n",
              "// Listen for the removal of the full notebook cells\n",
              "var notebookContainer = gd.closest('#notebook-container');\n",
              "if (notebookContainer) {{\n",
              "    x.observe(notebookContainer, {childList: true});\n",
              "}}\n",
              "\n",
              "// Listen for the clearing of the current output cell\n",
              "var outputEl = gd.closest('.output');\n",
              "if (outputEl) {{\n",
              "    x.observe(outputEl, {childList: true});\n",
              "}}\n",
              "\n",
              "                        })\n",
              "                };\n",
              "                \n",
              "            </script>\n",
              "        </div>\n",
              "</body>\n",
              "</html>"
            ]
          },
          "metadata": {}
        }
      ]
    },
    {
      "cell_type": "code",
      "metadata": {
        "id": "om797nDtuTfD"
      },
      "source": [
        ""
      ],
      "execution_count": null,
      "outputs": []
    }
  ]
}